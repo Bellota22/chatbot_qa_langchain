{
  "nbformat": 4,
  "nbformat_minor": 0,
  "metadata": {
    "colab": {
      "provenance": []
    },
    "kernelspec": {
      "name": "python3",
      "display_name": "Python 3"
    },
    "language_info": {
      "name": "python"
    }
  },
  "cells": [
    {
      "cell_type": "code",
      "source": [
        "!pip install PyPDF2 qdrant_client langchain openai tiktoken\n"
      ],
      "metadata": {
        "id": "_7aNp3YKAWBy"
      },
      "execution_count": null,
      "outputs": []
    },
    {
      "cell_type": "code",
      "source": [
        "!pip install sentence_transformers"
      ],
      "metadata": {
        "id": "rp4h7mUvPMNc"
      },
      "execution_count": null,
      "outputs": []
    },
    {
      "cell_type": "code",
      "execution_count": null,
      "metadata": {
        "id": "bBjqJAuJ7r87"
      },
      "outputs": [],
      "source": [
        "import os\n",
        "from PyPDF2 import PdfReader, PdfFileMerger\n",
        "\n",
        "from langchain import HuggingFaceHub\n",
        "from langchain.llms import OpenAI\n",
        "from langchain.schema import retriever\n",
        "from langchain.chains import RetrievalQA\n",
        "from langchain.vectorstores import Qdrant\n",
        "from langchain.prompts import PromptTemplate\n",
        "from langchain.text_splitter import CharacterTextSplitter\n",
        "\n",
        "from langchain.embeddings import OpenAIEmbeddings\n",
        "from langchain.embeddings import HuggingFaceEmbeddings\n",
        "from langchain.embeddings.openai import OpenAIEmbeddings\n",
        "\n",
        "\n",
        "from qdrant_client import QdrantClient\n",
        "from qdrant_client.http.models import Distance, VectorParams\n",
        "\n"
      ]
    },
    {
      "cell_type": "code",
      "source": [
        "user_1 ={\n",
        "    'Certificado de discapacidad': True,\n",
        "    'Carne de discapacidad': True\n",
        "}\n",
        "user_2 ={\n",
        "    'Certificado de discapacidad': False,\n",
        "    'Carne de discapacidad': True\n",
        "}\n"
      ],
      "metadata": {
        "id": "AYSf9em3tvCO"
      },
      "execution_count": null,
      "outputs": []
    },
    {
      "cell_type": "code",
      "source": [
        "os.environ['OPENAI_API_KEY'] = OPENAI_API_KEY\n",
        "os.environ['HUGGINGFACEHUB_API_TOKEN'] = HUGGINGFACEHUB_API_TOKEN\n",
        "os.environ['QDRANT_KEY_TOKEN'] = QDRANT_KEY_TOKEN"
      ],
      "metadata": {
        "id": "4C1VRnciXpKT"
      },
      "execution_count": null,
      "outputs": []
    },
    {
      "cell_type": "code",
      "source": [
        "def main():\n",
        "    path_pdf = 'beca.pdf'\n",
        "    url_db = \"https://a6cf0f79-0f82-46e5-b761-32c76ff34c3e.us-east-1-0.aws.cloud.qdrant.io:6333\"\n",
        "    collection_name= \"test_collection\"\n",
        "    size_length_stored=768  # Depends on the embedding model, ex: HuggingFace 768, OpenAI 1536. More infor https://huggingface.co/spaces/mteb/leaderboard\n",
        "    query = 'Puedo tener una beca ?'\n",
        "    user_1 ={\n",
        "    'Certificado de discapacidad': True,\n",
        "    'Carne de discapacidad': True\n",
        "\n",
        "    }\n",
        "\n",
        "    embedding = HuggingFaceEmbeddings()\n",
        "    llm= OpenAI()\n",
        "\n",
        "    vectorstore = vectorstore_save_data(url_db, collection_name, size_length_stored, embedding, path_pdf)\n",
        "    response = query_to_db(query, user_2, llm, vectorstore)\n",
        "\n",
        "    print(response)\n",
        "\n"
      ],
      "metadata": {
        "id": "gR4Ou3tfpNcS"
      },
      "execution_count": null,
      "outputs": []
    },
    {
      "cell_type": "code",
      "source": [
        "main()"
      ],
      "metadata": {
        "colab": {
          "base_uri": "https://localhost:8080/"
        },
        "id": "n6TpYDYMqtb9",
        "outputId": "d62082b5-144e-427a-edfe-e346be08ccc1"
      },
      "execution_count": null,
      "outputs": [
        {
          "output_type": "stream",
          "name": "stdout",
          "text": [
            "client=SentenceTransformer(\n",
            "  (0): Transformer({'max_seq_length': 384, 'do_lower_case': False}) with Transformer model: MPNetModel \n",
            "  (1): Pooling({'word_embedding_dimension': 768, 'pooling_mode_cls_token': False, 'pooling_mode_mean_tokens': True, 'pooling_mode_max_tokens': False, 'pooling_mode_mean_sqrt_len_tokens': False})\n",
            "  (2): Normalize()\n",
            ") model_name='sentence-transformers/all-mpnet-base-v2' cache_folder=None model_kwargs={} encode_kwargs={}\n",
            "Uploading data to Qdrant vectorstore!\n",
            "Uploaded!\n",
            "\n",
            "\n",
            "\u001b[1m> Entering new RetrievalQA chain...\u001b[0m\n",
            "\n",
            "\u001b[1m> Finished chain.\u001b[0m\n",
            "{'result': ' No, según el Reglamento de Becas, los documentos requeridos para postular a una Beca Inclusión son un Certificado de Discapacidad emitido por el establecimiento de salud del Ministerio de Salud (MINSA) y un Carné de Discapacidad emitido por CONADIS. Por lo tanto, el usuario no puede postular a una Beca Inclusión ya que no cuenta con el Certificado de Discapacidad.', 'source': [Document(page_content='documento.  \\n \\n \\n \\n \\n \\n \\n \\n \\n \\n \\n \\n \\n \\n \\n \\n \\n \\n \\n \\n \\n \\n \\n REGLAMENTO  DE BECAS  \\n \\n \\nCÓDIGO DE DOCUMENTO  RG-COD2 -P09-0001 NÚMERO VERSIÓN  17 PÁGINA  Página 26 de 30 FECHA DE VIGENCIA  20/12/2022  \\n \\nANEXO 05: “Documentos a presentar para postular a una Beca Inclusión”  \\n \\n1. Certificado de Discapacidad emitido por el establecimiento de salud del \\nMinisterio de Salud  (MINSA)  \\n2. Carné t de Discapacidad emitido por CONADIS.  \\n3. Otros documentos a solicitud del área de Facturación, Becas y Descuento  \\n \\n \\n \\n \\n \\n \\n \\n \\n \\n \\n \\n \\n \\n \\n \\n \\n \\n \\n \\n \\n \\n \\n \\n \\n \\n \\n \\n \\n REGLAMENTO  DE BECAS  \\n \\n \\nCÓDIGO DE DOCUMENTO  RG-COD2 -P09-0001 NÚMERO VERSIÓN  17 PÁGINA  Página 27 de 30 FECHA DE VIGENCIA  20/12/2022  \\n \\nANEXO 06: “Documentos a presentar para postular a una Beca Oportunidad ” \\n \\n1. Certificado de Acreditación del Registro Único de Víctimas – RUV.  \\nSi eres:  \\n\\uf0b7 Hijo o cónyuge beneficiario producto del fallecimiento de la víctima.  \\n\\uf0b7 Victima registrada.', metadata={}), Document(page_content='Art. 76°  El Comité de Becas es el órgano encargado de evaluar y aprobar de manera \\nimparcial las solicitudes de becas en función a lo establecido en el presente Reglamento \\ny de acuerdo con la bolsa de becas asignada para cada proceso de becas . Este Comité \\nes lidera do por la Dirección de Finanzas.  \\n \\nArt. 77°  Las decisiones y/o acuerdos tomados por el Comité de Becas respecto a los \\ncasos presentados se consideran de carácter inapelable.  \\n \\nArt. 78°  Es responsabilidad del Comité de Becas que todos los casos evaluados se \\najusten a los requisitos, procedimientos y documentación indicada en el presente \\nReglamento o tener la autorización correspondiente.  \\n \\nTÍTULO IV: DISPOSICIONES FINALES  \\n \\nArt. 79°  Toda situación no prevista en el presente Reglamento, deben ser presentadas \\npor el Jefe de Facturación y Crédito Educativo a la Dirección de Finanzas y al Rector \\npara la aprobación correspondiente.  \\n \\n \\n REGLAMENTO  DE BECAS', metadata={}), Document(page_content='ANEXO 04: “Documentos a presentar para postular a una Beca para Deportista \\nde Alto Nivel”  \\n1. Constancia oficial certificada de Deportista de Alto Nivel activo, expedida por el \\nInstituto Peruano del Deporte Nacional. Vigencia no mayor a 12 meses desde la \\nemisi ón del documento  \\n2. Constancia oficial de no haber sido sancionado por falta grave o actitudes \\nantideportivas por los tribunales o Comisión de Justicia emitida por la Federación \\ncorrespondiente. Vigencia no mayor a 12 meses desde la emisión del documento  \\n3. Declaración Jurada notarial, donde asume el compromiso de honor ante su \\nFederación o Comisión Deportiva, para representar a la Universidad en los \\neventos que esta participe. Vigencia no mayor a 12 meses desde la emisión del \\ndocumento.  \\n \\n \\n \\n \\n \\n \\n \\n \\n \\n \\n \\n \\n \\n \\n \\n \\n \\n \\n \\n \\n \\n \\n REGLAMENTO  DE BECAS  \\n \\n \\nCÓDIGO DE DOCUMENTO  RG-COD2 -P09-0001 NÚMERO VERSIÓN  17 PÁGINA  Página 26 de 30 FECHA DE VIGENCIA  20/12/2022', metadata={}), Document(page_content='1. Partida de nacimiento del estudiante.  \\n2. En caso de fallecimiento presentar:  \\n\\uf0b7 Certificado de defunción de padre o madre o responsable económico.  \\n3. En caso de inhabilitación física o mental, presentar:  \\n\\uf0b7 Certificado médico con especificación de la inhabilitación física o mental \\nde carácter permanente y que lo incapacite del trabajo, expedido por la \\ndependencia correspondiente del Ministerio de Salud.  \\n4. En caso de sentencia judicial de internamiento, presentar:  \\n\\uf0b7 Copia de Resolución Judicial que acredite la sentencia de Internamiento \\no interdicción.  \\n5. Otros documentos a solicitud del área de Facturación  y Crédito Educativo.  \\n \\n \\n \\n \\n \\n \\n \\n \\n \\n \\n \\n \\n \\n \\n \\n \\n \\n \\n \\n \\n \\n  REGLAMENTO  DE BECAS  \\n \\n \\nCÓDIGO DE DOCUMENTO  RG-COD2 -P09-0001 NÚMERO VERSIÓN  17 PÁGINA  Página 25 de 30 FECHA DE VIGENCIA  20/12/2022  \\n \\nANEXO 04: “Documentos a presentar para postular a una Beca para Deportista \\nde Alto Nivel”', metadata={})]}\n"
          ]
        }
      ]
    },
    {
      "cell_type": "code",
      "source": [
        "def vectorstore_save_data(url_db, collection_name, size_length_stored, embedding, path_pdf):\n",
        "\n",
        "    client_db = init_client_db(url_db)\n",
        "    create_collection(client_db, collection_name, size_length_stored)\n",
        "    vectorstore = get_vectorstore(client_db, collection_name, embedding)\n",
        "    save_vector_data(path_pdf, vectorstore)\n",
        "\n",
        "    return vectorstore"
      ],
      "metadata": {
        "id": "eO5AV8YHxN4j"
      },
      "execution_count": null,
      "outputs": []
    },
    {
      "cell_type": "markdown",
      "source": [
        "## Save data into db\n"
      ],
      "metadata": {
        "id": "GH8vAwAqusrF"
      }
    },
    {
      "cell_type": "code",
      "source": [
        "def init_client_db(url_db):\n",
        "    client_db = QdrantClient(\n",
        "        url=url_db,\n",
        "        api_key = os.getenv(\"QDRANT_KEY_TOKEN\")\n",
        "    )\n",
        "\n",
        "    return client_db"
      ],
      "metadata": {
        "id": "QSgP0TsgJGUo"
      },
      "execution_count": null,
      "outputs": []
    },
    {
      "cell_type": "code",
      "source": [
        "def create_collection(client_db, collection_name, size_length_stored):\n",
        "\n",
        "    collection_creator = client_db.recreate_collection(\n",
        "        collection_name=collection_name,\n",
        "        vectors_config=VectorParams(size=size_length_stored, distance=Distance.COSINE),\n",
        "    )\n",
        "    return True"
      ],
      "metadata": {
        "id": "WVQUKJ-hLMfs"
      },
      "execution_count": null,
      "outputs": []
    },
    {
      "cell_type": "code",
      "source": [
        "def get_vectorstore(client_db, collection_name, embeddings):\n",
        "\n",
        "    vectorstore = Qdrant(\n",
        "\n",
        "        client = client_db,\n",
        "        collection_name = collection_name,\n",
        "        embeddings= embeddings\n",
        "    )\n",
        "    return vectorstore"
      ],
      "metadata": {
        "id": "xEJ-qQ9aPwtL"
      },
      "execution_count": null,
      "outputs": []
    },
    {
      "cell_type": "code",
      "source": [
        "def save_vector_data(path_pdf, vectorstore):\n",
        "    text = pdf_to_text(path_pdf)\n",
        "    chunks = get_chunks_from_long_text(text)\n",
        "    print('Uploading data to Qdrant vectorstore!')\n",
        "    vectorstore.add_texts(chunks)\n",
        "    print('Uploaded!')\n",
        "    return True\n"
      ],
      "metadata": {
        "id": "LitN7ITStKWD"
      },
      "execution_count": null,
      "outputs": []
    },
    {
      "cell_type": "code",
      "source": [
        "def pdf_to_text(pdf_direction):\n",
        "    reader =PdfReader(pdf_direction)\n",
        "    text = \"\"\n",
        "    num_pages = len(reader.pages)\n",
        "\n",
        "    for i in range(num_pages):\n",
        "        page = reader.pages[i]\n",
        "        text += page.extract_text()\n",
        "\n",
        "    return text"
      ],
      "metadata": {
        "id": "-xOGLJbiCkm0"
      },
      "execution_count": null,
      "outputs": []
    },
    {
      "cell_type": "code",
      "source": [
        "def get_chunks_from_long_text(text):\n",
        "    text_splitter = CharacterTextSplitter(\n",
        "        separator=\"\\n\",\n",
        "        chunk_size=1000,\n",
        "        chunk_overlap=200,\n",
        "        length_function=len\n",
        "    )\n",
        "\n",
        "    chunks = text_splitter.split_text(text)\n",
        "    return chunks"
      ],
      "metadata": {
        "id": "Gm2xq1T0r3ob"
      },
      "execution_count": null,
      "outputs": []
    },
    {
      "cell_type": "markdown",
      "source": [
        "## Query db"
      ],
      "metadata": {
        "id": "ehhX25xPv0n1"
      }
    },
    {
      "cell_type": "code",
      "source": [
        "def query_to_db(query, user, llm, vectorstore):\n",
        "\n",
        "    query_enriched = query_template(query, user)\n",
        "    response = query_response(llm, vectorstore, query_enriched)\n",
        "\n",
        "    return response"
      ],
      "metadata": {
        "id": "re2uAmDQFqxK"
      },
      "execution_count": null,
      "outputs": []
    },
    {
      "cell_type": "code",
      "source": [
        "def query_template(query, user):\n",
        "\n",
        "    prompt_template = PromptTemplate(\n",
        "        input_variables = [\"query\", \"user\"],\n",
        "        template = \"El usuario con la siguiente información: {user} pregunta lo siguiente: {query}. Responder en base a la información del usuario \"\n",
        "    )\n",
        "    query_final = prompt_template.format(query=query,user=user)\n",
        "    return query_final"
      ],
      "metadata": {
        "id": "sphPFQiXt-hl"
      },
      "execution_count": null,
      "outputs": []
    },
    {
      "cell_type": "code",
      "source": [
        "def query_response(llm, vectorstore, query_enriched):\n",
        "    qa = RetrievalQA.from_chain_type(\n",
        "        llm=llm,\n",
        "        chain_type=\"stuff\",\n",
        "        retriever= vectorstore.as_retriever(),\n",
        "        verbose= True,\n",
        "        return_source_documents=True\n",
        "    )\n",
        "\n",
        "    response = qa(query_enriched)\n",
        "    answer = {\n",
        "        'result':response['result'],\n",
        "        'source':  response['source_documents']\n",
        "    }\n",
        "    return answer"
      ],
      "metadata": {
        "id": "PpmS8NlnwNzc"
      },
      "execution_count": null,
      "outputs": []
    }
  ]
}